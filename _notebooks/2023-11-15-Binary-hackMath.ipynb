{
 "cells": [
  {
   "cell_type": "markdown",
   "metadata": {},
   "source": [
    "---\n",
    "title: Binary Hack Math\n",
    "layout: default\n",
    "description: hacks\n",
    "courses: { csp: {week: 13} }\n",
    "type: ccc\n",
    "---"
   ]
  },
  {
   "cell_type": "code",
   "execution_count": 1,
   "metadata": {
    "vscode": {
     "languageId": "javascript"
    }
   },
   "outputs": [
    {
     "name": "stdout",
     "output_type": "stream",
     "text": [
      "Product: 35\n",
      "Sum: 12\n",
      "Sum is Even\n"
     ]
    }
   ],
   "source": [
    "# This is a Python code cell\n",
    "\n",
    "def multiply(a, b):\n",
    "    result = 0\n",
    "\n",
    "    while b != 0:\n",
    "        if b & 1:\n",
    "            result = add(result, a)\n",
    "\n",
    "        a <<= 1\n",
    "        b >>= 1\n",
    "\n",
    "    return result\n",
    "\n",
    "def add(a, b):\n",
    "    while b != 0:\n",
    "        carry = a & b\n",
    "        a = a ^ b\n",
    "        b = carry << 1\n",
    "\n",
    "    return a\n",
    "\n",
    "def is_even_or_odd(num):\n",
    "    return 'Even' if (num & 1) == 0 else 'Odd'\n",
    "\n",
    "# Example usage\n",
    "num1 = 7\n",
    "num2 = 5\n",
    "\n",
    "product = multiply(num1, num2)\n",
    "sum_result = add(num1, num2)\n",
    "result_message = is_even_or_odd(sum_result)\n",
    "\n",
    "print(f\"Product: {product}\")\n",
    "print(f\"Sum: {sum_result}\")\n",
    "print(f\"Sum is {result_message}\")\n"
   ]
  }
 ],
 "metadata": {
  "kernelspec": {
   "display_name": "Python 3",
   "language": "python",
   "name": "python3"
  },
  "language_info": {
   "codemirror_mode": {
    "name": "ipython",
    "version": 3
   },
   "file_extension": ".py",
   "mimetype": "text/x-python",
   "name": "python",
   "nbconvert_exporter": "python",
   "pygments_lexer": "ipython3",
   "version": "3.11.5"
  },
  "orig_nbformat": 4
 },
 "nbformat": 4,
 "nbformat_minor": 2
}
