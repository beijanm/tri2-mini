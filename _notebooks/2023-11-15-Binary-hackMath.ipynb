{
 "cells": [
  {
   "cell_type": "markdown",
   "metadata": {},
   "source": [
    "---\n",
    "title: Binary Hack Math\n",
    "layout: default\n",
    "description: hacks\n",
    "courses: { csp: {week: 13} }\n",
    "type: ccc\n",
    "---"
   ]
  },
  {
   "cell_type": "raw",
   "metadata": {},
   "source": [
    "<!DOCTYPE html>\n",
    "<html lang=\"en\">\n",
    "<head>\n",
    "    <meta charset=\"UTF-8\">\n",
    "    <meta name=\"viewport\" content=\"width=device-width, initial-scale=1.0\">\n",
    "    <title>Bitwise Operations Example</title>\n",
    "</head>\n",
    "<body>\n",
    "\n",
    "<script>\n",
    "// Function to multiply two numbers using bitwise operators\n",
    "function multiply(a, b) {\n",
    "    let result = 0;\n",
    "\n",
    "    while (b !== 0) {\n",
    "        if (b & 1) {\n",
    "            result = add(result, a);\n",
    "        }\n",
    "\n",
    "        a <<= 1;\n",
    "        b >>= 1;\n",
    "    }\n",
    "\n",
    "    return result;\n",
    "}\n",
    "\n",
    "// Function to add two numbers using bitwise operators\n",
    "function add(a, b) {\n",
    "    while (b !== 0) {\n",
    "        let carry = a & b;\n",
    "        a = a ^ b;\n",
    "        b = carry << 1;\n",
    "    }\n",
    "\n",
    "    return a;\n",
    "}\n",
    "\n",
    "// Function to determine if a number is odd or even using the last bit\n",
    "function isEvenOrOdd(num) {\n",
    "    return (num & 1) === 0 ? 'Even' : 'Odd';\n",
    "}\n",
    "\n",
    "// Example usage\n",
    "let num1 = 7;\n",
    "let num2 = 5;\n",
    "\n",
    "let product = multiply(num1, num2);\n",
    "let sum = add(num1, num2);\n",
    "let resultMessage = isEvenOrOdd(sum);\n",
    "\n",
    "console.log(`Product: ${product}`);\n",
    "console.log(`Sum: ${sum}`);\n",
    "console.log(`Sum is ${resultMessage}`);\n",
    "</script>\n",
    "\n",
    "</body>\n",
    "</html>\n"
   ]
  }
 ],
 "metadata": {
  "kernelspec": {
   "display_name": "Python 3",
   "language": "python",
   "name": "python3"
  },
  "language_info": {
   "codemirror_mode": {
    "name": "ipython",
    "version": 3
   },
   "file_extension": ".py",
   "mimetype": "text/x-python",
   "name": "python",
   "nbconvert_exporter": "python",
   "pygments_lexer": "ipython3",
   "version": "3.11.5"
  },
  "orig_nbformat": 4
 },
 "nbformat": 4,
 "nbformat_minor": 2
}
