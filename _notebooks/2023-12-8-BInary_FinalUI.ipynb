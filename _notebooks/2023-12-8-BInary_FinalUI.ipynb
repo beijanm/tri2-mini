{
 "cells": [
  {
   "cell_type": "markdown",
   "metadata": {},
   "source": [
    "---\n",
    "toc: true\n",
    "comments: true\n",
    "layout: hack\n",
    "title: BINARY Meuseum\n",
    "type: ccc\n",
    "courses: { csp: {week: 14} }\n",
    "---"
   ]
  }
 ],
 "metadata": {
  "language_info": {
   "name": "python"
  }
 },
 "nbformat": 4,
 "nbformat_minor": 2
}
