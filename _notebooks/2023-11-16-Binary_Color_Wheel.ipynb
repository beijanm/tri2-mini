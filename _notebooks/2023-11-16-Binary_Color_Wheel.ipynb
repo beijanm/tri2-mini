{
 "cells": [
  {
   "cell_type": "markdown",
   "metadata": {},
   "source": [
    "---\n",
    "toc: true\n",
    "comments: false\n",
    "layout: post\n",
    "title: Fun little colorwheel with binary!\n",
    "description: Explaining what binary does to colors.\n",
    "type: hacks\n",
    "courses: { compsci: {week: 1} }\n",
    "---"
   ]
  },
  {
   "cell_type": "markdown",
   "metadata": {},
   "source": [
    "# What binary can do"
   ]
  },
  {
   "cell_type": "markdown",
   "metadata": {},
   "source": [
    "\n",
    "Binary code is a way of representing information using only two symbols, typically 0s and 1s. When it comes to colors, binary can be used to represent different colors by combining values for different color channels.\n",
    "\n",
    "In digital systems, colors are often represented using a combination of red, green, and blue (RGB) channels. Each channel can have values ranging from 0 to 255 in an 8-bit system, where 0 represents no intensity of that particular color, and 255 represents the maximum intensity.\n",
    "\n",
    "To represent colors using binary in an RGB system:\n",
    "\n",
    "Red: An 8-bit binary number representing the intensity of red (e.g., 11111111 for full intensity, 00000000 for no red).\n",
    "Green: An 8-bit binary number representing the intensity of green (e.g., 11111111 for full intensity, 00000000 for no green).\n",
    "Blue: An 8-bit binary number representing the intensity of blue (e.g., 11111111 for full intensity, 00000000 for no blue)."
   ]
  },
  {
   "cell_type": "markdown",
   "metadata": {},
   "source": [
    "When these binary values are combined, they produce various colors by mixing different intensities of red, green, and blue.\n",
    "\n",
    "For example, a combination like (11111111, 11111111, 00000000) would represent full intensity of red and green, resulting in yellow because it's a mix of red and green light.\n",
    "\n",
    "So, binary code is used to represent different intensities of RGB channels to create a wide range of colors on digital screens."
   ]
  },
  {
   "cell_type": "code",
   "execution_count": null,
   "metadata": {
    "vscode": {
     "languageId": "html"
    }
   },
   "outputs": [],
   "source": [
    "<!DOCTYPE html>\n",
    "<html>\n",
    "<head>\n",
    "    <title>Color to Binary Converter</title>\n",
    "    <script>\n",
    "        function convertColorToBinary() {\n",
    "            // Get the color value chosen by the user\n",
    "            const colorPicker = document.getElementById('colorPicker');\n",
    "            const selectedColor = colorPicker.value;\n",
    "\n",
    "            // Display the selected color\n",
    "            document.getElementById('selectedColor').innerHTML = `Selected Color: ${selectedColor}`;\n",
    "\n",
    "            // Extract RGB values from the color string\n",
    "            const red = parseInt(selectedColor.substring(1, 3), 16);\n",
    "            const green = parseInt(selectedColor.substring(3, 5), 16);\n",
    "            const blue = parseInt(selectedColor.substring(5, 7), 16);\n",
    "\n",
    "            // Convert RGB values to binary\n",
    "            const redBinary = red.toString(2).padStart(8, '0');\n",
    "            const greenBinary = green.toString(2).padStart(8, '0');\n",
    "            const blueBinary = blue.toString(2).padStart(8, '0');\n",
    "\n",
    "            // Display RGB values and their binary equivalents\n",
    "            document.getElementById('rgbValues').innerHTML = `RGB Values: (${red}, ${green}, ${blue})`;\n",
    "            document.getElementById('binaryValues').innerHTML = `Binary Values: (${redBinary}, ${greenBinary}, ${blueBinary})`;\n",
    "        }\n",
    "    </script>\n",
    "</head>\n",
    "<body>\n",
    "    <h1>Color to Binary Converter</h1>\n",
    "    <input type=\"color\" id=\"colorPicker\" onchange=\"convertColorToBinary()\">\n",
    "    <div id=\"selectedColor\"></div>\n",
    "    <div id=\"rgbValues\"></div>\n",
    "    <div id=\"binaryValues\"></div>\n",
    "</body>\n",
    "</html>"
   ]
  },
  {
   "cell_type": "markdown",
   "metadata": {},
   "source": [
    "We will be incorporating colors into our binary clock to have loads of binary!"
   ]
  }
 ],
 "metadata": {
  "language_info": {
   "name": "python"
  }
 },
 "nbformat": 4,
 "nbformat_minor": 2
}
