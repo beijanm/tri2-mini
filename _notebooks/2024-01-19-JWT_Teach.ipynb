{
 "cells": [
  {
   "cell_type": "markdown",
   "metadata": {},
   "source": [
    "**VALIDATION**\n",
    "\n",
    "\n",
    "Validating a JWT (JSON Web Token) takes multiple steps. Below is a simple Python script using the PyJWT library to demonstrate JWT validation. \n",
    "\n",
    "Make sure to install the library first "
   ]
  },
  {
   "cell_type": "code",
   "execution_count": null,
   "metadata": {
    "vscode": {
     "languageId": "html"
    }
   },
   "outputs": [],
   "source": [
    "pip install PyJWT\n",
    "pip3 for macbook"
   ]
  },
  {
   "cell_type": "markdown",
   "metadata": {},
   "source": [
    "After that, run this python script using the PyJWT library to demonstrate JWT validation"
   ]
  },
  {
   "cell_type": "code",
   "execution_count": 1,
   "metadata": {},
   "outputs": [
    {
     "ename": "ModuleNotFoundError",
     "evalue": "No module named 'jwt'",
     "output_type": "error",
     "traceback": [
      "\u001b[0;31m---------------------------------------------------------------------------\u001b[0m",
      "\u001b[0;31mModuleNotFoundError\u001b[0m                       Traceback (most recent call last)",
      "Cell \u001b[0;32mIn[1], line 1\u001b[0m\n\u001b[0;32m----> 1\u001b[0m \u001b[39mimport\u001b[39;00m \u001b[39mjwt\u001b[39;00m\n\u001b[1;32m      2\u001b[0m \u001b[39mfrom\u001b[39;00m \u001b[39mdatetime\u001b[39;00m \u001b[39mimport\u001b[39;00m datetime, timedelta\n\u001b[1;32m      4\u001b[0m \u001b[39m# Your secret key for JWT validation\u001b[39;00m\n",
      "\u001b[0;31mModuleNotFoundError\u001b[0m: No module named 'jwt'"
     ]
    }
   ],
   "source": [
    "import jwt\n",
    "from datetime import datetime, timedelta\n",
    "\n",
    "# Your secret key for JWT validation\n",
    "SECRET_KEY = 'your_secret_key_here'\n",
    "# What the code above does is import the jwt module(which is apart of the PyJWT library,) \n",
    "# We also import datetime and timedelta from the standard python library\n",
    "# Then finally set a secret key variable, which is used to encode and decode the JWT\n",
    "\n",
    "def create_jwt():\n",
    "    # Create a sample JWT for demonstration purposes\n",
    "    payload = {\n",
    "        'user_id': 123,\n",
    "        'username': 'john_doe',\n",
    "        'exp': datetime.utcnow() + timedelta(hours=1)  # Token expiration time\n",
    "    }\n",
    "    token = jwt.encode(payload, SECRET_KEY, algorithm='HS256')\n",
    "    return token\n",
    "# The create_jwt function generates a sample JWT\n",
    "# It creates a payload with a user ID, username, and an expiration time (exp) set to one hour from the current UTC time. \n",
    "# The payload is then encoded using the jwt.encode function, and the resulting token is returned.\n",
    "def validate_jwt(token):\n",
    "    try:\n",
    "        # Decode and verify the JWT\n",
    "        payload = jwt.decode(token, SECRET_KEY, algorithms=['HS256'])\n",
    "        print(\"JWT Validation Successful!\")\n",
    "        print(\"Payload:\", payload)\n",
    "    except jwt.ExpiredSignatureError:\n",
    "        print(\"JWT has expired. Please obtain a new token.\")\n",
    "    except jwt.InvalidTokenError:\n",
    "        print(\"Invalid JWT. Authentication failed.\")\n",
    "# The validate_jwt function takes a JWT token as input and tries to decode and verify it\n",
    "# If the validation is successful, it prints a success message + the decoded payload.\n",
    "# If the token has expired, it catches the ExpiredSignatureError and prints a message about token expiration\n",
    "# If the token is invalid for other reasons, it catches the InvalidTokenError and prints a message about authentication failure.\n",
    "if __name__ == \"__main__\":\n",
    "    # Step 1: Create a JWT\n",
    "    jwt_token = create_jwt()\n",
    "    print(\"Generated JWT:\", jwt_token)\n",
    "\n",
    "    # Step 2: Validate the JWT\n",
    "    validate_jwt(jwt_token)\n",
    "\n",
    "# The __main__ block demonstrates the usage of the script. It first creates a JWT using the create_jwt function and prints the generated JWT\n",
    "# Then validates the JWT using the validate_jwt function.\n",
    "# he output will show the success message or specific error messages based on the validation result.\n"
   ]
  },
  {
   "cell_type": "markdown",
   "metadata": {},
   "source": [
    "**What this does is:**\n",
    "\n",
    "-Creates a JWT with a sample payload.\n",
    "\n",
    "-Prints the generated JWT.\n",
    "\n",
    "-Validates the JWT and prints the payload if the validation is successful.\n",
    "\n",
    "** Replace 'your_secret_key_here' with your actual secret key. This script uses the HS256 algorithm for HMAC with SHA-256, but you can choose a different algorithm based on different requirements.\n",
    "\n"
   ]
  }
 ],
 "metadata": {
  "kernelspec": {
   "display_name": "Python 3",
   "language": "python",
   "name": "python3"
  },
  "language_info": {
   "codemirror_mode": {
    "name": "ipython",
    "version": 3
   },
   "file_extension": ".py",
   "mimetype": "text/x-python",
   "name": "python",
   "nbconvert_exporter": "python",
   "pygments_lexer": "ipython3",
   "version": "3.11.5"
  },
  "orig_nbformat": 4
 },
 "nbformat": 4,
 "nbformat_minor": 2
}
