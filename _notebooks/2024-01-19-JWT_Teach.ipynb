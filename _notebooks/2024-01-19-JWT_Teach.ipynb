{
 "cells": [
  {
   "cell_type": "markdown",
   "metadata": {},
   "source": [
    "# JWT Team Teach"
   ]
  },
  {
   "cell_type": "markdown",
   "metadata": {},
   "source": [
    "### What are JWT tokens?\n",
    "\n",
    "- JSON Web Tokens (JWTs) are open standards (RFC 7519) for securely transmitting information between parties as JSON objects.\n",
    "- They're compact, URL-safe, and self-contained, making them ideal for authentication and authorization in web APIs.\n",
    "- They consist of three parts, separated by dots:\n",
    "  - Header: Specifies the type of token and the algorithm used to sign it.\n",
    "  - Payload: Contains the actual information being transmitted, such as user data or claims.\n",
    "  - Signature: Ensures the integrity of the token and prevents tampering. It's generated using a secret key.\n",
    "\n",
    "#### How to impelent JWT in a Flask Project:\n",
    "\n"
   ]
  },
  {
   "cell_type": "markdown",
   "metadata": {},
   "source": [
    "##### 1. Install the Flask-JWT-Extended extension:"
   ]
  },
  {
   "cell_type": "code",
   "execution_count": null,
   "metadata": {
    "vscode": {
     "languageId": "powershell"
    }
   },
   "outputs": [],
   "source": [
    "pip install Flask-JWT-Extended"
   ]
  },
  {
   "cell_type": "markdown",
   "metadata": {},
   "source": [
    "##### 2. Create Flask app and initialize JWT:"
   ]
  },
  {
   "cell_type": "code",
   "execution_count": null,
   "metadata": {},
   "outputs": [],
   "source": [
    "from flask import Flask\n",
    "from flask_jwt_extended import JWTManager\n",
    "\n",
    "app = Flask(__name__)\n",
    "app.config['JWT_SECRET_KEY'] = 'your-secret-key'  # Replace with a strong secret key\n",
    "jwt = JWTManager(app)"
   ]
  },
  {
   "cell_type": "markdown",
   "metadata": {},
   "source": [
    "##### 3. Create a login endpoint to generate tokens:"
   ]
  },
  {
   "cell_type": "code",
   "execution_count": null,
   "metadata": {},
   "outputs": [],
   "source": [
    "@app.route('/login', methods=['POST'])\n",
    "def login():\n",
    "    # Verify user credentials\n",
    "    if verify_credentials():  # Replace with your authentication logic\n",
    "        user_id = get_user_id()\n",
    "        access_token = create_access_token(identity=user_id)  # JWT creation\n",
    "        return jsonify({'access_token': access_token})\n",
    "    else:\n",
    "        return jsonify({'error': 'Invalid credentials'}), 401"
   ]
  },
  {
   "cell_type": "markdown",
   "metadata": {},
   "source": [
    "##### 4. Protect routes with @jwt_required decorator:"
   ]
  },
  {
   "cell_type": "code",
   "execution_count": null,
   "metadata": {},
   "outputs": [],
   "source": [
    "@app.route('/protected')\n",
    "@jwt_required\n",
    "def protected():\n",
    "    current_user = get_jwt_identity()  # Access user information from token\n",
    "    return jsonify({'message': 'Hello, {}!'.format(current_user)})\n"
   ]
  },
  {
   "cell_type": "markdown",
   "metadata": {},
   "source": [
    "**VALIDATION**\n",
    "\n",
    "\n",
    "Validating a JWT (JSON Web Token) takes multiple steps. Below is a simple Python script using the PyJWT library to demonstrate JWT validation. \n",
    "\n",
    "Make sure to install the library first "
   ]
  },
  {
   "cell_type": "code",
   "execution_count": 2,
   "metadata": {
    "vscode": {
     "languageId": "html"
    }
   },
   "outputs": [
    {
     "ename": "SyntaxError",
     "evalue": "invalid syntax (2652871764.py, line 1)",
     "output_type": "error",
     "traceback": [
      "\u001b[0;36m  Cell \u001b[0;32mIn[2], line 1\u001b[0;36m\u001b[0m\n\u001b[0;31m    pip install PyJWT\u001b[0m\n\u001b[0m        ^\u001b[0m\n\u001b[0;31mSyntaxError\u001b[0m\u001b[0;31m:\u001b[0m invalid syntax\n"
     ]
    }
   ],
   "source": [
    "pip install PyJWT\n",
    "pip3 for macbook"
   ]
  },
  {
   "cell_type": "markdown",
   "metadata": {},
   "source": [
    "After that, run this python script using the PyJWT library to demonstrate JWT validation"
   ]
  },
  {
   "cell_type": "code",
   "execution_count": null,
   "metadata": {},
   "outputs": [
    {
     "ename": "ModuleNotFoundError",
     "evalue": "No module named 'jwt'",
     "output_type": "error",
     "traceback": [
      "\u001b[0;31m---------------------------------------------------------------------------\u001b[0m",
      "\u001b[0;31mModuleNotFoundError\u001b[0m                       Traceback (most recent call last)",
      "Cell \u001b[0;32mIn[1], line 1\u001b[0m\n\u001b[0;32m----> 1\u001b[0m \u001b[39mimport\u001b[39;00m \u001b[39mjwt\u001b[39;00m\n\u001b[1;32m      2\u001b[0m \u001b[39mfrom\u001b[39;00m \u001b[39mdatetime\u001b[39;00m \u001b[39mimport\u001b[39;00m datetime, timedelta\n\u001b[1;32m      4\u001b[0m \u001b[39m# Your secret key for JWT validation\u001b[39;00m\n",
      "\u001b[0;31mModuleNotFoundError\u001b[0m: No module named 'jwt'"
     ]
    }
   ],
   "source": [
    "import jwt\n",
    "from datetime import datetime, timedelta\n",
    "\n",
    "# Your secret key for JWT validation\n",
    "SECRET_KEY = 'your_secret_key_here'\n",
    "# What the code above does is import the jwt module(which is apart of the PyJWT library,) \n",
    "# We also import datetime and timedelta from the standard python library\n",
    "# Then finally set a secret key variable, which is used to encode and decode the JWT\n",
    "\n",
    "def create_jwt():\n",
    "    # Create a sample JWT for demonstration purposes\n",
    "    payload = {\n",
    "        'user_id': 123,\n",
    "        'username': 'john_doe',\n",
    "        'exp': datetime.utcnow() + timedelta(hours=1)  # Token expiration time\n",
    "    }\n",
    "    token = jwt.encode(payload, SECRET_KEY, algorithm='HS256')\n",
    "    return token\n",
    "# The create_jwt function generates a sample JWT\n",
    "# It creates a payload with a user ID, username, and an expiration time (exp) set to one hour from the current UTC time. \n",
    "# The payload is then encoded using the jwt.encode function, and the resulting token is returned.\n",
    "def validate_jwt(token):\n",
    "    try:\n",
    "        # Decode and verify the JWT\n",
    "        payload = jwt.decode(token, SECRET_KEY, algorithms=['HS256'])\n",
    "        print(\"JWT Validation Successful!\")\n",
    "        print(\"Payload:\", payload)\n",
    "    except jwt.ExpiredSignatureError:\n",
    "        print(\"JWT has expired. Please obtain a new token.\")\n",
    "    except jwt.InvalidTokenError:\n",
    "        print(\"Invalid JWT. Authentication failed.\")\n",
    "# The validate_jwt function takes a JWT token as input and tries to decode and verify it\n",
    "# If the validation is successful, it prints a success message + the decoded payload.\n",
    "# If the token has expired, it catches the ExpiredSignatureError and prints a message about token expiration\n",
    "# If the token is invalid for other reasons, it catches the InvalidTokenError and prints a message about authentication failure.\n",
    "if __name__ == \"__main__\":\n",
    "    # Step 1: Create a JWT\n",
    "    jwt_token = create_jwt()\n",
    "    print(\"Generated JWT:\", jwt_token)\n",
    "\n",
    "    # Step 2: Validate the JWT\n",
    "    validate_jwt(jwt_token)\n",
    "\n",
    "# The __main__ block demonstrates the usage of the script. It first creates a JWT using the create_jwt function and prints the generated JWT\n",
    "# Then validates the JWT using the validate_jwt function.\n",
    "# he output will show the success message or specific error messages based on the validation result.\n"
   ]
  },
  {
   "cell_type": "markdown",
   "metadata": {},
   "source": [
    "**What this does is:**\n",
    "\n",
    "-Creates a JWT with a sample payload.\n",
    "\n",
    "-Prints the generated JWT.\n",
    "\n",
    "-Validates the JWT and prints the payload if the validation is successful.\n",
    "\n",
    "** Replace 'your_secret_key_here' with your actual secret key. This script uses the HS256 algorithm for HMAC with SHA-256, but you can choose a different algorithm based on different requirements.\n",
    "\n"
   ]
  },
  {
   "cell_type": "markdown",
   "metadata": {},
   "source": [
    "## Postman Introduction:\n",
    "\n",
    "Postman is a tool that helps applications communicate over the internet by making it easy to send and receive messages (requests and responses).\n",
    "It's like a friendly messenger ensuring smooth conversations between different software, making it essential for testing and debugging during app development.\n",
    "Functionality:\n",
    "\n",
    "Postman allows developers to test APIs, ensuring that services work as expected by sending and receiving requests in a user-friendly interface.\n",
    "It also helps in checking and managing cookies, crucial for apps to remember information during their interactions with servers.\n",
    "Problem-Solving:\n",
    "\n",
    "When communication issues arise in app development, Postman acts like a detective, aiding developers in identifying and resolving issues efficiently.\n",
    "It's a valuable tool for troubleshooting and ensuring that apps correctly understand and respond to the information they receive from other services."
   ]
  },
  {
   "cell_type": "markdown",
   "metadata": {},
   "source": [
    "## Example of a piece of code\n"
   ]
  },
  {
   "cell_type": "code",
   "execution_count": null,
   "metadata": {},
   "outputs": [],
   "source": [
    "// Postman Test Script\n",
    "pm.test(\"Response Status is 200\", function () {\n",
    "    pm.response.to.have.status(200);\n",
    "});"
   ]
  },
  {
   "cell_type": "markdown",
   "metadata": {},
   "source": [
    "This Postman test script checks whether the HTTP response status is 200, indicating a successful request. If the status matches, the test passes; otherwise, it fails, providing an automated way to verify expected conditions in API responses during testing."
   ]
  }
 ],
 "metadata": {
  "kernelspec": {
   "display_name": "Python 3",
   "language": "python",
   "name": "python3"
  },
  "language_info": {
   "codemirror_mode": {
    "name": "ipython",
    "version": 3
   },
   "file_extension": ".py",
   "mimetype": "text/x-python",
   "name": "python",
   "nbconvert_exporter": "python",
   "pygments_lexer": "ipython3",
   "version": "3.11.4"
  },
  "orig_nbformat": 4
 },
 "nbformat": 4,
 "nbformat_minor": 2
}
